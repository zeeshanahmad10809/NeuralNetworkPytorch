{
 "cells": [
  {
   "cell_type": "code",
   "execution_count": 1,
   "metadata": {},
   "outputs": [],
   "source": [
    "import torch\n",
    "import numpy as np\n",
    "from tqdm import tqdm"
   ]
  },
  {
   "cell_type": "code",
   "execution_count": 2,
   "metadata": {},
   "outputs": [],
   "source": [
    "X = np.array([[0, 0],\n",
    "                  [0, 1],\n",
    "                  [1, 0],\n",
    "                  [1, 1]])\n",
    "\n",
    "Y = np.array([[0], [1], [1], [0]])\n",
    "\n",
    "X = np.array(X, dtype=np.float64)\n",
    "Y = np.array(Y, dtype=np.float64)"
   ]
  },
  {
   "cell_type": "code",
   "execution_count": 3,
   "metadata": {},
   "outputs": [],
   "source": [
    "input_nodes = 2\n",
    "output_nodes = 1\n",
    "hidden_nodes = 2"
   ]
  },
  {
   "cell_type": "code",
   "execution_count": 4,
   "metadata": {},
   "outputs": [],
   "source": [
    "wh = torch.tensor(np.random.uniform(-1, 1.1, (input_nodes, hidden_nodes)), requires_grad=True)\n",
    "bh = torch.tensor(np.random.uniform(-1, 1.1, hidden_nodes), requires_grad=True)\n",
    "\n",
    "wo = torch.tensor(np.random.uniform(-1, 1.1, (hidden_nodes, output_nodes)), requires_grad=True)\n",
    "bo = torch.tensor(np.random.uniform(-1, 1.1, output_nodes), requires_grad=True)"
   ]
  },
  {
   "cell_type": "code",
   "execution_count": 5,
   "metadata": {},
   "outputs": [],
   "source": [
    "x = torch.tensor(X)\n",
    "y = torch.tensor(Y)"
   ]
  },
  {
   "cell_type": "code",
   "execution_count": 6,
   "metadata": {},
   "outputs": [
    {
     "data": {
      "text/plain": [
       "tensor([[0., 0.],\n",
       "        [0., 1.],\n",
       "        [1., 0.],\n",
       "        [1., 1.]], dtype=torch.float64)"
      ]
     },
     "execution_count": 6,
     "metadata": {},
     "output_type": "execute_result"
    }
   ],
   "source": [
    "x"
   ]
  },
  {
   "cell_type": "code",
   "execution_count": 7,
   "metadata": {},
   "outputs": [],
   "source": [
    "def MSE(predicted_y, target_y):\n",
    "    return torch.mean(torch.pow(predicted_y-target_y, 2))"
   ]
  },
  {
   "cell_type": "code",
   "execution_count": 20,
   "metadata": {},
   "outputs": [],
   "source": [
    "def SSE(predicted_y, target_y):\n",
    "    return torch.sum(torch.pow(predicted_y-target_y, 2))"
   ]
  },
  {
   "cell_type": "code",
   "execution_count": 8,
   "metadata": {},
   "outputs": [],
   "source": [
    "def Binary_Cross_Entropy(predicted_y, target_y):\n",
    "    return torch.mean(-1 * torch.add(torch.mul(target_y, torch.log(predicted_y)), torch.mul(1-target_y, torch.log(1 - predicted_y))))"
   ]
  },
  {
   "cell_type": "code",
   "execution_count": 16,
   "metadata": {},
   "outputs": [],
   "source": [
    "def forward_pass():\n",
    "    zh = torch.matmul(x, wh) + bh\n",
    "    ah = torch.sigmoid(zh)\n",
    "    \n",
    "    zo = torch.matmul(ah, wo) + bo\n",
    "    ao = torch.sigmoid(zo)\n",
    "    return ao\n",
    "    "
   ]
  },
  {
   "cell_type": "code",
   "execution_count": 17,
   "metadata": {},
   "outputs": [],
   "source": [
    "epochs = 60000\n",
    "lr = 0.4"
   ]
  },
  {
   "cell_type": "code",
   "execution_count": 18,
   "metadata": {},
   "outputs": [
    {
     "name": "stderr",
     "output_type": "stream",
     "text": [
      "\r",
      "  0%|                                                                                            | 0/1 [00:00<?, ?it/s]"
     ]
    },
    {
     "name": "stdout",
     "output_type": "stream",
     "text": [
      "tensor([[-4.6260],\n",
      "        [ 4.5835],\n",
      "        [ 4.5844],\n",
      "        [-4.3766]], dtype=torch.float64, grad_fn=<AddBackward0>)\n"
     ]
    },
    {
     "name": "stderr",
     "output_type": "stream",
     "text": [
      "100%|███████████████████████████████████████████████████████████████████████████████████| 1/1 [00:00<00:00, 182.16it/s]\n"
     ]
    }
   ],
   "source": [
    "BCE_loss = torch.nn.BCELoss()\n",
    "for epoch in tqdm(range(epochs)):\n",
    "    predicted_y = forward_pass()\n",
    "    #loss = Binary_Cross_Entropy(predicted_y, y)\n",
    "    loss = MSE(predicted_y, y)\n",
    "    #print(\"iteration: \", epoch, \"loss: \", loss.item(), \"loss1: \", BCE_loss(predicted_y, y))\n",
    "    \n",
    "    loss.backward()\n",
    "    \n",
    "    with torch.no_grad():\n",
    "        wh -= lr * wh.grad\n",
    "        bh -= lr * bh.grad\n",
    "        wo -= lr * wo.grad\n",
    "        bo -= lr * bo.grad\n",
    "        \n",
    "        wh.grad.zero_()\n",
    "        bh.grad.zero_()\n",
    "        wo.grad.zero_()\n",
    "        bo.grad.zero_()\n",
    "    "
   ]
  },
  {
   "cell_type": "code",
   "execution_count": 13,
   "metadata": {},
   "outputs": [
    {
     "data": {
      "text/plain": [
       "tensor([[3.4113e-04],\n",
       "        [9.9965e-01],\n",
       "        [9.9965e-01],\n",
       "        [5.2652e-04]], dtype=torch.float64, grad_fn=<SigmoidBackward>)"
      ]
     },
     "execution_count": 13,
     "metadata": {},
     "output_type": "execute_result"
    }
   ],
   "source": [
    "predicted = forward_pass()\n",
    "predicted\n",
    "#BCE_loss"
   ]
  },
  {
   "cell_type": "code",
   "execution_count": 12,
   "metadata": {},
   "outputs": [
    {
     "data": {
      "text/plain": [
       "tensor([[0.0097],\n",
       "        [0.9899],\n",
       "        [0.9899],\n",
       "        [0.0124]], dtype=torch.float64, grad_fn=<SigmoidBackward>)"
      ]
     },
     "execution_count": 12,
     "metadata": {},
     "output_type": "execute_result"
    }
   ],
   "source": [
    "predicted = forward_pass()\n",
    "predicted\n",
    "#MSE_loss"
   ]
  },
  {
   "cell_type": "code",
   "execution_count": 33,
   "metadata": {},
   "outputs": [],
   "source": [
    "def get_accuracy(predicted, actual):\n",
    "    predicted_boolean = predicted.detach().numpy() > 0.97\n",
    "    actual_boolean = actual > 0.9\n",
    "    assert len(actual_boolean) == len(predicted_boolean)\n",
    "    accuracy_boolean = predicted_boolean == actual_boolean\n",
    "    accuracy = np.count_nonzero(accuracy_boolean)/len(actual)\n",
    "    return accuracy * 100\n",
    "    "
   ]
  },
  {
   "cell_type": "code",
   "execution_count": 34,
   "metadata": {},
   "outputs": [
    {
     "data": {
      "text/plain": [
       "100.0"
      ]
     },
     "execution_count": 34,
     "metadata": {},
     "output_type": "execute_result"
    }
   ],
   "source": [
    "get_accuracy(predicted, Y)"
   ]
  },
  {
   "cell_type": "code",
   "execution_count": null,
   "metadata": {},
   "outputs": [],
   "source": []
  },
  {
   "cell_type": "code",
   "execution_count": null,
   "metadata": {},
   "outputs": [],
   "source": []
  },
  {
   "cell_type": "code",
   "execution_count": 18,
   "metadata": {},
   "outputs": [
    {
     "data": {
      "text/plain": [
       "tensor(9.2103)"
      ]
     },
     "execution_count": 18,
     "metadata": {},
     "output_type": "execute_result"
    }
   ],
   "source": [
    "loss = torch.nn.BCELoss()\n",
    "loss(torch.tensor([1.0, 0.0, 1.0]), torch.tensor([1.0, 1.0, 1.0]))"
   ]
  },
  {
   "cell_type": "code",
   "execution_count": null,
   "metadata": {},
   "outputs": [],
   "source": []
  }
 ],
 "metadata": {
  "kernelspec": {
   "display_name": "Python 3",
   "language": "python",
   "name": "python3"
  },
  "language_info": {
   "codemirror_mode": {
    "name": "ipython",
    "version": 3
   },
   "file_extension": ".py",
   "mimetype": "text/x-python",
   "name": "python",
   "nbconvert_exporter": "python",
   "pygments_lexer": "ipython3",
   "version": "3.6.9"
  }
 },
 "nbformat": 4,
 "nbformat_minor": 2
}
